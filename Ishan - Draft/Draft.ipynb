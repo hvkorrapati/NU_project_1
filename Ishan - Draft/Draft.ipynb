{
 "cells": [
  {
   "cell_type": "code",
   "execution_count": null,
   "id": "7f2fcc0f",
   "metadata": {},
   "outputs": [],
   "source": [
    "# Dependencies\n",
    "from sodapy import Socrata\n",
    "import json\n",
    "import requests\n",
    "import matplotlib.pyplot as plt\n",
    "import pandas as pd\n",
    "import numpy as np\n",
    "import requests\n",
    "import time\n",
    "from scipy.stats import linregress\n",
    "from config import appToken\n",
    "\n",
    "# Use open client to obtain data\n",
    "client = Socrata(\"data.cdc.gov\", appToken)\n",
    "results = client.get(\"8xkx-amqh\", limit = 2000000)\n",
    "                     \n",
    "# Convert to pandas DataFrame\n",
    "results_df = pd.DataFrame.from_records(results)\n",
    "results_df.head()\n"
   ]
  },
  {
   "cell_type": "code",
   "execution_count": null,
   "id": "67c1b443",
   "metadata": {},
   "outputs": [],
   "source": [
    "results_df.columns"
   ]
  },
  {
   "cell_type": "code",
   "execution_count": null,
   "id": "32ef6ceb",
   "metadata": {},
   "outputs": [],
   "source": [
    "results_df_columns = results_df[['date','fips','recip_state','recip_county',\n",
    "                                     'completeness_pct','administered_dose1_recip',\n",
    "                                     'administered_dose1_pop_pct','series_complete_yes',\n",
    "                                     'series_complete_pop_pct','metro_status','census2019']]\n",
    "len(results_df_columns)"
   ]
  },
  {
   "cell_type": "code",
   "execution_count": null,
   "id": "385365f7",
   "metadata": {},
   "outputs": [],
   "source": [
    "clean_df = results_df_columns.dropna()\n",
    "len(clean_df)"
   ]
  },
  {
   "cell_type": "code",
   "execution_count": null,
   "id": "bf039053",
   "metadata": {},
   "outputs": [],
   "source": [
    "clean_df.head()"
   ]
  },
  {
   "cell_type": "code",
   "execution_count": null,
   "id": "263ff57a",
   "metadata": {},
   "outputs": [],
   "source": [
    "clean_df['date'] = pd.to_datetime(clean_df['date']).dt.date\n",
    "clean_df.head()"
   ]
  },
  {
   "cell_type": "code",
   "execution_count": null,
   "id": "5bb27366",
   "metadata": {},
   "outputs": [],
   "source": [
    "clean_df['month'] = pd.DatetimeIndex(clean_df['date']).month\n",
    "clean_df.head()"
   ]
  },
  {
   "cell_type": "code",
   "execution_count": null,
   "id": "a69ffe3c",
   "metadata": {},
   "outputs": [],
   "source": [
    "clean_df['quarter'] = pd.DatetimeIndex(clean_df['date']).quarter\n",
    "clean_df.head()"
   ]
  },
  {
   "cell_type": "code",
   "execution_count": null,
   "id": "6db757ed",
   "metadata": {},
   "outputs": [],
   "source": [
    "# states_df = clean_df.loc[(clean_df['recip_state'] == 'CA') | (clean_df['recip_state'] == 'TX'),:]\n",
    "# states_df.head()"
   ]
  },
  {
   "cell_type": "code",
   "execution_count": null,
   "id": "9f7e12c0",
   "metadata": {},
   "outputs": [],
   "source": [
    "grouped_fips = clean_df.groupby(['fips'])\n",
    "max_group = grouped_fips.max()"
   ]
  },
  {
   "cell_type": "code",
   "execution_count": null,
   "id": "4f1df5a9",
   "metadata": {},
   "outputs": [],
   "source": [
    "max_dose = pd.DataFrame(max_group[['administered_dose1_recip','administered_dose1_pop_pct']]) \n",
    "max_dose.head()"
   ]
  },
  {
   "cell_type": "code",
   "execution_count": null,
   "id": "0700333f",
   "metadata": {},
   "outputs": [],
   "source": []
  }
 ],
 "metadata": {
  "kernelspec": {
   "display_name": "Python [conda env:PythonData38] *",
   "language": "python",
   "name": "conda-env-PythonData38-py"
  },
  "language_info": {
   "codemirror_mode": {
    "name": "ipython",
    "version": 3
   },
   "file_extension": ".py",
   "mimetype": "text/x-python",
   "name": "python",
   "nbconvert_exporter": "python",
   "pygments_lexer": "ipython3",
   "version": "3.8.12"
  }
 },
 "nbformat": 4,
 "nbformat_minor": 5
}
