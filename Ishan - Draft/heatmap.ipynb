{
 "cells": [
  {
   "cell_type": "code",
   "execution_count": null,
   "id": "e7f0154c",
   "metadata": {},
   "outputs": [],
   "source": [
    "from sodapy import Socrata\n",
    "import json\n",
    "import requests\n",
    "import matplotlib.pyplot as plt\n",
    "import pandas as pd\n",
    "import numpy as np\n",
    "import requests\n",
    "import time\n",
    "from scipy.stats import linregress\n",
    "from config import appToken\n",
    "\n",
    "from urllib.request import urlopen\n",
    "from scipy import stats\n",
    "import gmaps\n",
    "import plotly.express as px\n",
    "\n",
    "\n",
    "\n",
    "# Use open client to obtain data\n",
    "client = Socrata(\"data.cdc.gov\", appToken)\n",
    "results = client.get(\"dnhi-s2bf\", limit = 1000000)\n",
    "\n",
    "# Convert to pandas DataFrame\n",
    "death_quarterly = pd.DataFrame.from_records(results)\n",
    "death_quarterly.head()\n"
   ]
  },
  {
   "cell_type": "code",
   "execution_count": null,
   "id": "2da5cabc",
   "metadata": {},
   "outputs": [],
   "source": [
    "death_quarterly_1 = death_quarterly.drop(columns=['footnote'])\n",
    "death_quarterly_2 = death_quarterly_1.dropna(subset =['covid_19_deaths','total_deaths'])\n"
   ]
  },
  {
   "cell_type": "code",
   "execution_count": null,
   "id": "03578b39",
   "metadata": {},
   "outputs": [],
   "source": [
    "death_quarterly_2['total_deaths'] = death_quarterly_2['total_deaths'].astype(int)\n",
    "death_quarterly_2['covid_19_deaths'] = death_quarterly_2['covid_19_deaths'].astype(int)\n",
    "death_gb = death_quarterly_2.groupby(['fips_code'])\n",
    "death_gb_df = death_gb.sum()"
   ]
  },
  {
   "cell_type": "code",
   "execution_count": null,
   "id": "c61803bc",
   "metadata": {},
   "outputs": [],
   "source": [
    "death_gb_df['covid_portion_of_total_deaths'] = death_gb_df['covid_19_deaths']/death_gb_df['total_deaths']\n",
    "death_gb_df = pd.DataFrame(death_gb_df)"
   ]
  },
  {
   "cell_type": "code",
   "execution_count": null,
   "id": "2f515d82",
   "metadata": {},
   "outputs": [],
   "source": [
    "death_gb_df"
   ]
  },
  {
   "cell_type": "code",
   "execution_count": null,
   "id": "3a0e1707",
   "metadata": {},
   "outputs": [],
   "source": [
    "death_gb_df.reset_index(inplace=True)"
   ]
  },
  {
   "cell_type": "code",
   "execution_count": null,
   "id": "f91499a6",
   "metadata": {},
   "outputs": [],
   "source": [
    "death_gb_df.describe(include='all')"
   ]
  },
  {
   "cell_type": "code",
   "execution_count": null,
   "id": "ffe1f78b",
   "metadata": {},
   "outputs": [],
   "source": [
    "death_quarterly_2"
   ]
  },
  {
   "cell_type": "code",
   "execution_count": null,
   "id": "a134b1e0",
   "metadata": {},
   "outputs": [],
   "source": [
    "url = \"https://raw.githubusercontent.com/plotly/datasets/master/geojson-counties-fips.json\"\n",
    "\n",
    "response = requests.get(url).json()\n",
    "response"
   ]
  },
  {
   "cell_type": "code",
   "execution_count": null,
   "id": "09f9582b",
   "metadata": {},
   "outputs": [],
   "source": [
    "fig = px.choropleth(death_gb_df, geojson=response, locations='fips_code', color='covid_portion_of_total_deaths',\n",
    "                           color_continuous_scale=\"bluered\",\n",
    "                           range_color=(0.1, .25),\n",
    "                           scope=\"usa\",\n",
    "                           labels={'COVID as % of Total Deaths':'covid_portion_of_total_deaths'}\n",
    "                          )\n",
    "fig.update_layout(margin={\"r\":0,\"t\":0,\"l\":0,\"b\":0})\n",
    "fig.show()\n",
    "\n",
    "\n",
    "#https://plotly.com/python/choropleth-maps/\n",
    "#https://plotly.com/python/builtin-colorscales/"
   ]
  },
  {
   "cell_type": "code",
   "execution_count": null,
   "id": "0a468f38",
   "metadata": {},
   "outputs": [],
   "source": []
  }
 ],
 "metadata": {
  "kernelspec": {
   "display_name": "Python [conda env:PythonData38] *",
   "language": "python",
   "name": "conda-env-PythonData38-py"
  },
  "language_info": {
   "codemirror_mode": {
    "name": "ipython",
    "version": 3
   },
   "file_extension": ".py",
   "mimetype": "text/x-python",
   "name": "python",
   "nbconvert_exporter": "python",
   "pygments_lexer": "ipython3",
   "version": "3.8.12"
  }
 },
 "nbformat": 4,
 "nbformat_minor": 5
}
