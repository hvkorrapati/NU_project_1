{
 "cells": [
  {
   "cell_type": "code",
   "execution_count": null,
   "id": "61c2befc",
   "metadata": {
    "scrolled": true
   },
   "outputs": [],
   "source": [
    "# Dependencies\n",
    "from sodapy import Socrata\n",
    "import json\n",
    "import requests\n",
    "import pandas as pd\n",
    "from config import app_token"
   ]
  },
  {
   "cell_type": "code",
   "execution_count": null,
   "id": "b7b70fb1",
   "metadata": {},
   "outputs": [],
   "source": [
    "# Use open client to obtain data\n",
    "client = Socrata(\"data.cdc.gov\", app_token)\n",
    "results = client.get(\"9bhg-hcku\", limit=4000000)\n",
    "\n",
    "# Convert to pandas DataFrame\n",
    "results_df = pd.DataFrame.from_records(results)\n",
    "results_df"
   ]
  },
  {
   "cell_type": "code",
   "execution_count": null,
   "id": "0cc2ac0c",
   "metadata": {},
   "outputs": [],
   "source": [
    "results_states = results_df.loc[(results_df['state'] != 'United States') & (results_df['age_group'] == 'All Ages') & (results_df['group'] == 'By Total') & (results_df['sex'] == 'All Sexes')]\n",
    "results_states = results_states[['state', 'covid_19_deaths']]\n",
    "results_states"
   ]
  },
  {
   "cell_type": "code",
   "execution_count": null,
   "id": "49d2713b",
   "metadata": {},
   "outputs": [],
   "source": [
    "results_sex = results_df.loc[((results_df['state'] == 'Texas') | (results_df['state'] == 'California')) & (results_df['age_group'] == 'All Ages') & (results_df['group'] == 'By Total') & (results_df['sex'] != 'All Sexes')]\n",
    "results_sex = results_sex[['state', 'sex', 'covid_19_deaths']]\n",
    "results_sex"
   ]
  },
  {
   "cell_type": "code",
   "execution_count": null,
   "id": "e76160e6",
   "metadata": {},
   "outputs": [],
   "source": [
    "results_age = results_df.loc[((results_df['state'] == 'Texas') | (results_df['state'] == 'California')) & (results_df['age_group'] != 'All Ages') & (results_df['group'] == 'By Total') & (results_df['sex'] == 'All Sexes')]\n",
    "results_age2 = results_age.loc[(results_df['age_group'] == '0-17 years') | (results_df['age_group'] == '18-29 years') | (results_df['age_group'] == '30-39 years') | (results_df['age_group'] == '40-49 years') | (results_df['age_group'] == '50-64 years') | (results_df['age_group'] == '65-74 years') | (results_df['age_group'] == '75-84 years') | (results_df['age_group'] == '85 years and over')]\n",
    "results_age2 = results_age2[['state', 'age_group', 'covid_19_deaths']]\n",
    "results_age2"
   ]
  },
  {
   "cell_type": "code",
   "execution_count": null,
   "id": "767f70df",
   "metadata": {},
   "outputs": [],
   "source": [
    "# Use open client to obtain data\n",
    "results2 = client.get(\"ks3g-spdg\", limit=4000000)\n",
    "\n",
    "# Convert to pandas DataFrame\n",
    "results2_df = pd.DataFrame.from_records(results2)\n",
    "results2_df"
   ]
  },
  {
   "cell_type": "code",
   "execution_count": null,
   "id": "11858e68",
   "metadata": {},
   "outputs": [],
   "source": [
    "results_race = results2_df.loc[((results2_df['state'] == 'Texas') | (results2_df['state'] == 'California')) & (results2_df['race_and_hispanic_origin'] != 'Total Deaths')]\n",
    "results_race = results_race.loc[(results_race['age_group_new'] == '0-17 years') | (results_race['age_group_new'] == '18-29 years') | (results_race['age_group_new'] == '30-39 years') | (results_race['age_group_new'] == '40-49 years') | (results_race['age_group_new'] == '50-64 years') | (results_race['age_group_new'] == '65-74 years') | (results_race['age_group_new'] == '75-84 years') | (results_race['age_group_new'] == '85 years and over')]\n",
    "results_race2 = results_race2.fillna(0)\n",
    "\n",
    "converted_race_df = results_race2.copy()\n",
    "converted_race_df = converted_race_df.astype({\"covid_19_deaths\": \"int64\"})\n",
    "converted_race_df.dtypes\n",
    "\n",
    "group_race_df = converted_race_df.groupby(['state','race_and_hispanic_origin'])\n",
    "group_race_df.dtypes\n",
    "\n",
    "total_deaths_race_df = pd.DataFrame(group_race_df[[\"covid_19_deaths\"]].sum())\n",
    "total_deaths_race_df"
   ]
  }
 ],
 "metadata": {
  "kernelspec": {
   "display_name": "Python [conda env:PythonData38] *",
   "language": "python",
   "name": "conda-env-PythonData38-py"
  },
  "language_info": {
   "codemirror_mode": {
    "name": "ipython",
    "version": 3
   },
   "file_extension": ".py",
   "mimetype": "text/x-python",
   "name": "python",
   "nbconvert_exporter": "python",
   "pygments_lexer": "ipython3",
   "version": "3.8.12"
  }
 },
 "nbformat": 4,
 "nbformat_minor": 5
}
