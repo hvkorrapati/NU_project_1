{
 "cells": [
  {
   "cell_type": "code",
   "execution_count": null,
   "id": "61c2befc",
   "metadata": {
    "scrolled": true
   },
   "outputs": [],
   "source": [
    "# Dependencies\n",
    "from sodapy import Socrata\n",
    "import json\n",
    "import requests\n",
    "import pandas as pd\n",
    "import numpy as np\n",
    "import matplotlib.pyplot as plt\n",
    "from config import appToken"
   ]
  },
  {
   "cell_type": "code",
   "execution_count": null,
   "id": "b7b70fb1",
   "metadata": {},
   "outputs": [],
   "source": [
    "# Use open client to obtain CDC COVID-19 death rates, including age/sex data\n",
    "client = Socrata(\"data.cdc.gov\", appToken)\n",
    "results = client.get(\"9bhg-hcku\", limit=4000000)\n",
    "\n",
    "# Convert to pandas DataFrame\n",
    "results_df = pd.DataFrame.from_records(results)\n",
    "results_df"
   ]
  },
  {
   "cell_type": "code",
   "execution_count": null,
   "id": "0cc2ac0c",
   "metadata": {},
   "outputs": [],
   "source": [
    "# Filter DataFrame for State COVID-19 death totals only\n",
    "results_states = results_df.loc[(results_df['state'] != 'United States') & (results_df['age_group'] == 'All Ages') & (results_df['group'] == 'By Total') & (results_df['sex'] == 'All Sexes')]\n",
    "results_states = results_states[['state', 'covid_19_deaths']]\n",
    "\n",
    "# Create copy of DataFrame for tabulation, convert and sort death counts descending\n",
    "converted_states_df = results_states.copy()\n",
    "converted_states_df = converted_states_df.astype({\"covid_19_deaths\": \"int64\"})\n",
    "states_df = pd.DataFrame(converted_states_df).sort_values('covid_19_deaths',ascending=False)\n",
    "states_df"
   ]
  },
  {
   "cell_type": "code",
   "execution_count": null,
   "id": "79861c6b",
   "metadata": {
    "scrolled": true
   },
   "outputs": [],
   "source": [
    "# Plot COVID-19 death totals by State\n",
    "# Set x axis and tick locations\n",
    "x_axis = np.arange(len(states_df['state']))\n",
    "tick_locations = [value+0.4 for value in x_axis]\n",
    "\n",
    "# Create a list indicating where to write x labels and set figure size to adjust for space\n",
    "# Also assign separate color for three states with highest rates\n",
    "plt.figure(figsize=(14,6))\n",
    "barplot = plt.bar(x_axis, states_df['covid_19_deaths'], color='blue', alpha=0.5, align=\"edge\")\n",
    "plt.xticks(tick_locations, states_df['state'], rotation=\"vertical\")\n",
    "barplot[0].set_color('red')\n",
    "barplot[1].set_color('red')\n",
    "barplot[2].set_color('red')\n",
    "\n",
    "# Set x and y limits\n",
    "plt.xlim(-0.25, len(x_axis))\n",
    "plt.ylim(0, max(states_df['covid_19_deaths'])+4000)\n",
    "\n",
    "# Set Title and Labels\n",
    "plt.title(\"Total COVID-19 Deaths by State\")\n",
    "plt.xlabel(\"State\")\n",
    "plt.ylabel(\"Deaths\")\n",
    "\n",
    "# Display the chart, and export for later use\n",
    "plt.tight_layout()\n",
    "plt.savefig(\"Images/deathct_by_state.png\")\n",
    "plt.show()"
   ]
  },
  {
   "cell_type": "code",
   "execution_count": null,
   "id": "49d2713b",
   "metadata": {},
   "outputs": [],
   "source": [
    "# Filter CDC data for the three states with highest COVID-19 deaths, to include\n",
    "# data for both sexes, all ages\n",
    "results_sex = results_df.loc[((results_df['state'] == 'Texas') | (results_df['state'] == 'California') | (results_df['state'] == 'Florida')) & (results_df['age_group'] == 'All Ages') & (results_df['group'] == 'By Total') & (results_df['sex'] != 'All Sexes')]\n",
    "results_sex = results_sex[['state', 'sex', 'covid_19_deaths']]\n",
    "\n",
    "# Create copy of DataFrame for tabulation, convert death total to integer for summation\n",
    "converted_sex_df = results_sex.copy()\n",
    "converted_sex_df = converted_sex_df.astype({\"covid_19_deaths\": \"int64\"})\n",
    "converted_sex_df"
   ]
  },
  {
   "cell_type": "code",
   "execution_count": null,
   "id": "542f5b73",
   "metadata": {},
   "outputs": [],
   "source": [
    "# Create lists for plotting\n",
    "state_lst = []\n",
    "male_ct = converted_sex_df[converted_sex_df[\"sex\"] == 'Male'][\"covid_19_deaths\"].tolist()\n",
    "female_ct = converted_sex_df[converted_sex_df[\"sex\"] == 'Female'][\"covid_19_deaths\"].tolist()\n",
    "\n",
    "for state in converted_sex_df['state']:\n",
    "    if state in state_lst:\n",
    "        pass\n",
    "    else:\n",
    "        state_lst.append(state)\n",
    "\n",
    "# Plot COVID-19 death counts by State, stacking bars by Sex, assigning title/legend\n",
    "plt.bar(state_lst, male_ct, color='b', label=\"Male\", alpha=0.5)\n",
    "plt.bar(state_lst, female_ct, bottom=male_ct, color='r',label=\"Female\", alpha=0.5)\n",
    "plt.title(\"COVID-19 Deaths by Sex\")\n",
    "plt.legend(loc=\"upper center\")\n",
    "\n",
    "# Display total counts by sex at the top of each bar\n",
    "for i in range(len(state_lst)):\n",
    "    plt.text(i, male_ct[i], male_ct[i], ha=\"center\", va=\"top\", color=\"w\", fontweight=\"bold\")\n",
    "    plt.text(i, female_ct[i]+male_ct[i], female_ct[i], ha=\"center\", va=\"top\", color=\"w\", fontweight=\"bold\")\n",
    "\n",
    "# Display the chart, and export for later use\n",
    "plt.savefig(\"Images/deathct_by_sex.png\")\n",
    "plt.show()"
   ]
  },
  {
   "cell_type": "code",
   "execution_count": null,
   "id": "e76160e6",
   "metadata": {},
   "outputs": [],
   "source": [
    "# Filter CDC data for the three states with highest COVID-19 deaths, to include\n",
    "# death data for all age groups without overlap\n",
    "results_age = results_df.loc[((results_df['state'] == 'Texas') | (results_df['state'] == 'California') | (results_df['state'] == 'Florida')) & (results_df['age_group'] != 'All Ages') & (results_df['group'] == 'By Total') & (results_df['sex'] == 'All Sexes')]\n",
    "results_age2 = results_age.loc[(results_df['age_group'] == '0-17 years') | (results_df['age_group'] == '18-29 years') | (results_df['age_group'] == '30-39 years') | (results_df['age_group'] == '40-49 years') | (results_df['age_group'] == '50-64 years') | (results_df['age_group'] == '65-74 years') | (results_df['age_group'] == '75-84 years') | (results_df['age_group'] == '85 years and over')]\n",
    "results_age2 = results_age2[['state', 'age_group', 'covid_19_deaths']]\n",
    "\n",
    "# Create copy of DataFrame for tabulation, convert death total to integer for summation\n",
    "age_df = results_age2.copy()\n",
    "age_df = results_age2.astype({\"covid_19_deaths\": \"int64\"})\n",
    "age_df"
   ]
  },
  {
   "cell_type": "code",
   "execution_count": null,
   "id": "1280eef8",
   "metadata": {},
   "outputs": [],
   "source": [
    "# Create lists for plotting\n",
    "age_range = []\n",
    "cali_ct = age_df[age_df[\"state\"] == 'California'][\"covid_19_deaths\"].tolist()\n",
    "tex_ct = age_df[age_df[\"state\"] == 'Texas'][\"covid_19_deaths\"].tolist()\n",
    "flor_ct = age_df[age_df[\"state\"] == 'Florida'][\"covid_19_deaths\"].tolist()\n",
    "\n",
    "for age in age_df['age_group']:\n",
    "    if age in age_range:\n",
    "        pass\n",
    "    else:\n",
    "        age_range.append(age)\n",
    "        \n",
    "# Set index length and bar width \n",
    "index = np.arange(8)\n",
    "bar_width = 0.25\n",
    "        \n",
    "# Plot COVID-19 death counts by State grouped by Age Group\n",
    "fig, ax = plt.subplots()\n",
    "cali = ax.bar(index, cali_ct, bar_width, label=\"California\", color=\"blue\", alpha=0.5)\n",
    "texas = ax.bar(index+bar_width, tex_ct, bar_width, label=\"Texas\", color=\"red\", alpha=0.5)\n",
    "florida = ax.bar(index+bar_width+bar_width, flor_ct, bar_width, label=\"Florida\", color=\"orange\", alpha=0.5)\n",
    "\n",
    "# Assign title, labels, and legend\n",
    "ax.set_xlabel('Age Group')\n",
    "ax.set_ylabel('Deaths')\n",
    "ax.set_title('COVID-19 Deaths by Age Group')\n",
    "ax.set_xticks(index + bar_width / 2)\n",
    "ax.set_xticklabels(age_range, rotation=45, ha=\"right\")\n",
    "ax.legend()\n",
    "\n",
    "# Display the chart, and export for later use\n",
    "plt.tight_layout()\n",
    "plt.savefig(\"Images/deathct_by_agegrp.png\")\n",
    "plt.show()"
   ]
  },
  {
   "cell_type": "code",
   "execution_count": null,
   "id": "767f70df",
   "metadata": {},
   "outputs": [],
   "source": [
    "# Use open client to obtain data\n",
    "results2 = client.get(\"ks3g-spdg\", limit=4000000)\n",
    "\n",
    "# Convert to pandas DataFrame\n",
    "results2_df = pd.DataFrame.from_records(results2)\n",
    "results2_df"
   ]
  },
  {
   "cell_type": "code",
   "execution_count": null,
   "id": "11858e68",
   "metadata": {},
   "outputs": [],
   "source": [
    "# Filter CDC data for the three states with highest COVID-19 deaths, to include\n",
    "# death data for all race groups excepting nominal \"Unknown\" figures\n",
    "results_race = results2_df.loc[((results2_df['state'] == 'Texas') | (results2_df['state'] == 'California') | (results2_df['state'] == 'Florida')) & (results2_df['race_and_hispanic_origin'] != 'Total Deaths') & (results2_df['race_and_hispanic_origin'] != 'Unknown')]\n",
    "results_race = results_race.loc[(results_race['age_group_new'] == '0-17 years') | (results_race['age_group_new'] == '18-29 years') | (results_race['age_group_new'] == '30-39 years') | (results_race['age_group_new'] == '40-49 years') | (results_race['age_group_new'] == '50-64 years') | (results_race['age_group_new'] == '65-74 years') | (results_race['age_group_new'] == '75-84 years') | (results_race['age_group_new'] == '85 years and over')]\n",
    "results_race2 = results_race.fillna(0)\n",
    "results_race2 = results_race2[['state', 'race_and_hispanic_origin', 'covid_19_deaths']]\n",
    "\n",
    "# Create copy of DataFrame for tabulation, convert death total to integer for summation\n",
    "converted_race_df = results_race2.copy()\n",
    "converted_race_df = converted_race_df.astype({\"covid_19_deaths\": \"int64\"})\n",
    "converted_race_df\n",
    "\n",
    "# Group DataFrame by State, Race cagtegories\n",
    "group_race_df = converted_race_df.groupby(['state','race_and_hispanic_origin'])\n",
    "race_df = pd.DataFrame(group_race_df[[\"covid_19_deaths\"]].sum())\n",
    "\n",
    "# Convert DataFrame to pivot table\n",
    "dfr = race_df.pivot_table(index='race_and_hispanic_origin', columns='state', values='covid_19_deaths')\n",
    "dfr"
   ]
  },
  {
   "cell_type": "code",
   "execution_count": null,
   "id": "43bc739a",
   "metadata": {},
   "outputs": [],
   "source": [
    "# Create lists for plotting\n",
    "race_range = dfr.index.tolist()\n",
    "cali_ct2 = dfr[\"California\"].tolist()\n",
    "tex_ct2 = dfr[\"Texas\"].tolist()\n",
    "flor_ct2 = dfr[\"Florida\"].tolist()\n",
    "\n",
    "# Set index length and bar width \n",
    "index = np.arange(7)\n",
    "bar_width = 0.25\n",
    "        \n",
    "# Plot COVID-19 death counts for each State by Race \n",
    "fig, ax = plt.subplots()\n",
    "cali2 = ax.barh(index+bar_width+bar_width, cali_ct2, bar_width, label=\"California\", color=\"blue\", alpha=0.5)\n",
    "texas2 = ax.barh(index+bar_width, tex_ct2, bar_width, label=\"Texas\", color=\"red\", alpha=0.5)\n",
    "florida2 = ax.barh(index, flor_ct2, bar_width, label=\"Florida\", color=\"orange\", alpha=0.5)\n",
    "\n",
    "# Assign title, labels, and legend\n",
    "ax.set_xlabel('Deaths')\n",
    "ax.set_title('COVID-19 Deaths by Race and Hispanic Origin')\n",
    "ax.set_yticks(index + bar_width / 2)\n",
    "ax.set_yticklabels(race_range)\n",
    "ax.legend()\n",
    "\n",
    "# Display the chart, and export for later use\n",
    "plt.savefig(\"Images/deathct_by_racegrp.png\", bbox_inches='tight')\n",
    "plt.figure(figsize=(30,10))\n",
    "plt.tight_layout()\n",
    "plt.show()"
   ]
  },
  {
   "cell_type": "code",
   "execution_count": null,
   "id": "d0d8c7a3",
   "metadata": {},
   "outputs": [],
   "source": []
  }
 ],
 "metadata": {
  "kernelspec": {
   "display_name": "Python [conda env:PythonData38] *",
   "language": "python",
   "name": "conda-env-PythonData38-py"
  },
  "language_info": {
   "codemirror_mode": {
    "name": "ipython",
    "version": 3
   },
   "file_extension": ".py",
   "mimetype": "text/x-python",
   "name": "python",
   "nbconvert_exporter": "python",
   "pygments_lexer": "ipython3",
   "version": "3.8.12"
  }
 },
 "nbformat": 4,
 "nbformat_minor": 5
}
